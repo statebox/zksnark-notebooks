{
 "cells": [
  {
   "cell_type": "code",
   "execution_count": 1,
   "metadata": {},
   "outputs": [],
   "source": [
    "from sage.structure.element import Element\n",
    "\n",
    "# create a Multiplication Gate object with left, right, out, and an operation\n",
    "\n",
    "class Gate(Element):\n",
    "    '''(l) and (r) are lists of left or right input wires. Addition is compressed  (o) is\n",
    "       a list containing the single output wire.'''\n",
    "    def __init__(self, l, r, o, root):\n",
    "        self.left = l\n",
    "        self.right = r\n",
    "        self.out = o\n",
    "        self.root = root\n",
    "        \n",
    "    def __repr__(self):\n",
    "        return (\"Gate(\" + str(self.left) + \", \" + str(self.right) + \", \" + self.out + \")\")\n",
    "    \n",
    "# Parameters for BLS12-381, a pairing-friendly curve used in ZCash Sapling    \n",
    "F=GF(0x1a0111ea397fe69a4b1ba7b6434bacd764774b84f38512bf6730d2a0f6b0f6241eabfffeb153ffffb9feffffffffaaab)\n",
    "E=EllipticCurve(F, [0,4])"
   ]
  },
  {
   "cell_type": "code",
   "execution_count": 19,
   "metadata": {},
   "outputs": [],
   "source": [
    "\n",
    "# circuit structure is defined with `gates` below\n",
    "# this circuit is (c_1+c_2)*(c_3*c_4)=c_6\n",
    "# example assignment: 2, 7, -3, 5, -135\n",
    "\n",
    "n = 4 # inputs\n",
    "s = 2 # multiplication gates\n",
    "N = n + s # total number of wires\n",
    "\n",
    "# note that this polynomial ring is over integers rather than a finite field due to limitations with sage\n",
    "\n",
    "P.<x> = PolynomialRing(ZZ)\n",
    "\n",
    "var('c_1 c_2 c_3 c_4 c_5 c_6')\n",
    "\n",
    "wires = [c_1, c_2, c_3, c_4, c_5, c_6]\n",
    "\n",
    "gates = [\n",
    "    Gate([c_3], [c_4], [c_5], 0),\n",
    "    Gate([c_1, c_2], [c_5], [c_6], 1)\n",
    "]\n",
    "\n",
    "roots = [g.root for g in gates]"
   ]
  },
  {
   "cell_type": "code",
   "execution_count": 28,
   "metadata": {},
   "outputs": [
    {
     "name": "stdout",
     "output_type": "stream",
     "text": [
      "c_1*x^2 + c_2*x^2 + (x^2 - 1)*c_3 + (x^2 - x)*c_4 + (x^2 - x)*c_5 + (x^2 - x)*c_6\n"
     ]
    }
   ],
   "source": [
    "# target polynomial\n",
    "T = prod([x - g.root for g in gates])\n",
    "\n",
    "# left polynomial\n",
    "L = sum([c*prod([x - g.root + (1 if c in g.left else 0) for g in gates]) for c in wires])\n",
    "\n",
    "# right polynomial\n",
    "R = sum([c*prod([x - g.root + (1 if c in g.right else 0) for g in gates]) for c in wires])\n",
    "\n",
    "# out polynomial\n",
    "O = sum([c*prod([(x - g.root)^2 + (1 if c in g.out else 0) for g in gates]) for c in wires])\n",
    "\n",
    "Q = L*R-O\n",
    "\n",
    "print(L)"
   ]
  },
  {
   "cell_type": "code",
   "execution_count": 65,
   "metadata": {},
   "outputs": [
    {
     "name": "stdout",
     "output_type": "stream",
     "text": [
      "[0, 0]\n"
     ]
    }
   ],
   "source": [
    "# prover knows avalid assignment: 2, 7, -3, 5, -135\n",
    "# this includes intermediate step with -3 * 5 = -15 (c_5)\n",
    "\n",
    "# program polynomial evaluated at this assignment\n",
    "\n",
    "Qe1 = Q(2,7,-3,5,-15,-135)\n",
    "print([Qe1(r) for r in roots])\n",
    "\n",
    "# output of [0, 0] means Qe1 has roots at both roots of T, so both multiplication gates are correctly computed"
   ]
  },
  {
   "cell_type": "code",
   "execution_count": 67,
   "metadata": {},
   "outputs": [
    {
     "name": "stdout",
     "output_type": "stream",
     "text": [
      "[0, 1]\n"
     ]
    }
   ],
   "source": [
    "# here is an incorrect assignment\n",
    "\n",
    "Qe2 = Q(2,7,-3,5,-15,-136)\n",
    "print([Qe2(r) for r in roots])\n",
    "\n",
    "# output of [0, 1] means Qe2 does not have a root for the second gate, so the second gate is incorrectly computed"
   ]
  },
  {
   "cell_type": "code",
   "execution_count": null,
   "metadata": {},
   "outputs": [],
   "source": []
  }
 ],
 "metadata": {
  "kernelspec": {
   "display_name": "SageMath 8.7",
   "language": "",
   "name": "sagemath"
  },
  "language_info": {
   "codemirror_mode": {
    "name": "ipython",
    "version": 2
   },
   "file_extension": ".py",
   "mimetype": "text/x-python",
   "name": "python",
   "nbconvert_exporter": "python",
   "pygments_lexer": "ipython2",
   "version": "2.7.15"
  }
 },
 "nbformat": 4,
 "nbformat_minor": 2
}

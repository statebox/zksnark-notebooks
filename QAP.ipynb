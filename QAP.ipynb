{
 "cells": [
  {
   "cell_type": "code",
   "execution_count": 1,
   "metadata": {},
   "outputs": [],
   "source": [
    "from sage.structure.element import Element\n",
    "\n",
    "# create a Multiplication Gate object with left, right, out, and an operation\n",
    "\n",
    "class Gate(Element):\n",
    "    '''(l) and (r) are lists of left or right input wires. Addition is compressed  (o) is\n",
    "       a list containing the single output wire.'''\n",
    "    def __init__(self, l, r, o, root):\n",
    "        self.left = l\n",
    "        self.right = r\n",
    "        self.out = o\n",
    "        self.root = root\n",
    "        \n",
    "    def __repr__(self):\n",
    "        return (\"Gate(\" + str(self.left) + \", \" + str(self.right) + \", \" + self.out + \")\")\n",
    "    \n",
    "# Parameters for BLS12-381, a pairing-friendly curve used in ZCash Sapling    \n",
    "F=GF(0x1a0111ea397fe69a4b1ba7b6434bacd764774b84f38512bf6730d2a0f6b0f6241eabfffeb153ffffb9feffffffffaaab)\n",
    "E=EllipticCurve(F, [0,4])"
   ]
  },
  {
   "cell_type": "code",
   "execution_count": 19,
   "metadata": {},
   "outputs": [],
   "source": [
    "\n",
    "# circuit structure is defined with `gates` below\n",
    "# this circuit is (c_1+c_2)*(c_3*c_4)=c_6\n",
    "# example assignment: 2, 7, -3, 5, -135\n",
    "\n",
    "n = 4 # inputs\n",
    "s = 2 # multiplication gates\n",
    "N = n + s # total number of wires\n",
    "\n",
    "# note that this polynomial ring is over integers rather than a finite field due to limitations with sage\n",
    "\n",
    "P.<x> = PolynomialRing(ZZ)\n",
    "\n",
    "var('c_1 c_2 c_3 c_4 c_5 c_6')\n",
    "\n",
    "wires = [c_1, c_2, c_3, c_4, c_5, c_6]\n",
    "\n",
    "gates = [\n",
    "    Gate([c_3], [c_4], [c_5], 0),\n",
    "    Gate([c_1, c_2], [c_5], [c_6], 1)\n",
    "]\n",
    "\n",
    "roots = [g.root for g in gates]"
   ]
  },
  {
   "cell_type": "code",
   "execution_count": 28,
   "metadata": {},
   "outputs": [
    {
     "name": "stdout",
     "output_type": "stream",
     "text": [
      "c_1*x^2 + c_2*x^2 + (x^2 - 1)*c_3 + (x^2 - x)*c_4 + (x^2 - x)*c_5 + (x^2 - x)*c_6\n"
     ]
    }
   ],
   "source": [
    "# target polynomial\n",
    "T = prod([x - g.root for g in gates])\n",
    "\n",
    "# left polynomial\n",
    "L = sum([c*prod([x - g.root + (1 if c in g.left else 0) for g in gates]) for c in wires])\n",
    "\n",
    "# right polynomial\n",
    "R = sum([c*prod([x - g.root + (1 if c in g.right else 0) for g in gates]) for c in wires])\n",
    "\n",
    "# out polynomial\n",
    "O = sum([c*prod([(x - g.root)^2 + (1 if c in g.out else 0) for g in gates]) for c in wires])\n",
    "\n",
    "Q = L*R-O\n",
    "\n",
    "print(L)"
   ]
  },
  {
   "cell_type": "code",
   "execution_count": 65,
   "metadata": {},
   "outputs": [
    {
     "name": "stdout",
     "output_type": "stream",
     "text": [
      "[0, 0]\n"
     ]
    }
   ],
   "source": [
    "# prover knows avalid assignment: 2, 7, -3, 5, -135\n",
    "# this includes intermediate step with -3 * 5 = -15 (c_5)\n",
    "\n",
    "# program polynomial evaluated at this assignment\n",
    "\n",
    "Qe1 = Q(2,7,-3,5,-15,-135)\n",
    "print([Qe1(r) for r in roots])\n",
    "\n",
    "# output of [0, 0] means Qe1 has roots at both roots of T, so both multiplication gates are correctly computed"
   ]
  },
  {
   "cell_type": "code",
   "execution_count": 67,
   "metadata": {},
   "outputs": [
    {
     "name": "stdout",
     "output_type": "stream",
     "text": [
      "[0, 1]\n"
     ]
    }
   ],
   "source": [
    "# here is an incorrect assignment\n",
    "\n",
    "Qe2 = Q(2,7,-3,5,-15,-136)\n",
    "print([Qe2(r) for r in roots])\n",
    "\n",
    "# output of [0, 1] means Qe2 does not have a root for the second gate, so the second gate is incorrectly computed"
   ]
  },
  {
   "cell_type": "code",
   "execution_count": null,
   "metadata": {},
   "outputs": [],
   "source": [
    "# define the elliptic curve parameters for alt_bn_128\n",
    "q = 21888242871839275222246405745257275088696311157297823662689037894645226208583\n",
    "\n",
    "# define our finite fields\n",
    "Fq = GF(q)\n",
    "R.<t> = PolynomialRing(Fq)\n",
    "Fq2.<i> = Fq.extension(t^2+1)\n",
    "Fq12.<j> = Fq.extension(82-18*t^6+t^12)\n",
    "\n",
    "# define the elliptic curves\n",
    "E = EllipticCurve(Fq, [0,3])\n",
    "E2 = EllipticCurve(Fq2, [0, 3/(9+i)])\n",
    "E12 = EllipticCurve(Fq12, [0, 3])\n",
    "\n",
    "\n",
    "# generators for our curves\n",
    "G1 = E(1, 2)\n",
    "G2 = E2(\n",
    "  11559732032986387107991004021392285783925812861821192530917403151452391805634 * i +\n",
    "  10857046999023057135944570762232829481370756359578518086990519993285655852781,\n",
    "  4082367875863433681332203403145435568316851327593401208105741076214120093531 * i +\n",
    "  8495653923123431417604973247489272438418190587263600148770280649306958101930\n",
    "   )"
   ]
  },
  {
   "cell_type": "code",
   "execution_count": null,
   "metadata": {},
   "outputs": [],
   "source": [
    "# new we can build up the apparatus for computing a pairing\n",
    "\n",
    "# we are using an Ate pairing, where our two elliptic curve points \n",
    "# are on two different curves (E and E2 in this case) but are mapped\n",
    "# to a third elliptic curve (E12) for the pairing arithmetic\n",
    "\n",
    "# some precomupted numbers we need for the Ate pairing\n",
    "\n",
    "curve_order = 21888242871839275222246405745257275088548364400416034343698204186575808495617\n",
    "E12_trace_of_frobenius = 219935527718358747437685322321746888215792990022412734112037885679359160821747878808219383053039080712646717876492712517106434983527509917272700114061872443178054096459403896123212817639965365778333704429105246520228990368104811904610399806718379154632718223430673353654343444964609177304997512400034119082640719481391775619518018555403226583182026891006289337232060054232144962470325381114532246761168032255579192085445576594976954355784276425978642748189538\n",
    "\n",
    "# this takes elliptic curve point coordinates in the form of [ai+b, ci+d]\n",
    "# and returns [[a,b], [c,d]]\n",
    "\n",
    "def coeffs(P2):\n",
    "    return [[(P2[0].conjugate()+P2[0])/2, (P2[0]-(P2[0].conjugate()+P2[0])/2)/i], [(P2[1].conjugate()+P2[1])/2, (P2[1]-(P2[1].conjugate()+P2[1])/2)/i]]\n",
    "\n",
    "# the twist maps an elliptic curve point from E2 to E12\n",
    "def twist(P2):\n",
    "    W = Fq12([0,1,0,0,0,0,0,0,0,0,0,0])\n",
    "    xc = coeffs(P2)[0][0]-9*coeffs(P2)[0][1], coeffs(P2)[0][1]\n",
    "    yc = coeffs(P2)[1][0]-9*coeffs(P2)[1][1], coeffs(P2)[1][1]\n",
    "    nx = Fq12([xc[0], 0, 0, 0, 0, 0, xc[1], 0, 0, 0, 0, 0])\n",
    "    ny = Fq12([yc[0], 0, 0, 0, 0, 0, yc[1], 0, 0, 0, 0, 0])\n",
    "    return E12(nx * W^2, ny * W^3)\n",
    "\n",
    "# the cast maps an elliptic curve point from E to E12\n",
    "def cast(P1):\n",
    "    coords = P1.xy();\n",
    "    return E12(Fq12(coords[0]), Fq12(coords[1]))\n",
    "\n",
    "# apply the maps and perform the Ate pairing in E12\n",
    "def pairing(P,Q):\n",
    "    return cast(P).ate_pairing(twist(Q),curve_order,12,E12_trace_of_frobenius)\n"
   ]
  }
 ],
 "metadata": {
  "kernelspec": {
   "display_name": "SageMath 8.8",
   "language": "sage",
   "name": "sagemath"
  },
  "language_info": {
   "codemirror_mode": {
    "name": "ipython",
    "version": 2
   },
   "file_extension": ".py",
   "mimetype": "text/x-python",
   "name": "python",
   "nbconvert_exporter": "python",
   "pygments_lexer": "ipython2",
   "version": "2.7.15"
  }
 },
 "nbformat": 4,
 "nbformat_minor": 2
}
